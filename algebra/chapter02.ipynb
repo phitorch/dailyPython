{
  "nbformat": 4,
  "nbformat_minor": 0,
  "metadata": {
    "colab": {
      "provenance": [],
      "authorship_tag": "ABX9TyMA/Xo6BYyPhcuRCUgzQUg9"
    },
    "kernelspec": {
      "name": "python3",
      "display_name": "Python 3"
    },
    "language_info": {
      "name": "python"
    }
  },
  "cells": [
    {
      "cell_type": "code",
      "execution_count": 1,
      "metadata": {
        "colab": {
          "base_uri": "https://localhost:8080/"
        },
        "id": "FCRJQGokvGVP",
        "outputId": "3e857609-d3c7-45ff-f4c5-8a0b1034a752"
      },
      "outputs": [
        {
          "output_type": "stream",
          "name": "stdout",
          "text": [
            "a =  [[0. 0. 0.]\n",
            " [0. 0. 0.]]\n",
            "b = [[1. 1.]\n",
            " [1. 1.]]\n",
            "c = [[3 3]\n",
            " [3 3]\n",
            " [3 3]]\n",
            "d = [[1. 0.]\n",
            " [0. 1.]]\n"
          ]
        }
      ],
      "source": [
        "import numpy as np\n",
        "\n",
        "a = np.zeros((2, 3))\n",
        "print(\"a = \", a)\n",
        "\n",
        "b = np.ones((2, 2))\n",
        "print(\"b =\", b)\n",
        "\n",
        "c = np.full((3, 2), 3)\n",
        "print(\"c =\", c)\n",
        "\n",
        "d = np.eye(2)\n",
        "print(\"d =\", d)"
      ]
    },
    {
      "cell_type": "code",
      "source": [
        "import numpy as np\n",
        "\n",
        "# 행렬 A를 출력하는 함수\n",
        "def pprint(msg, A):\n",
        "  print(\"---\", msg, \"---\")\n",
        "  (n,m) = A.shape\n",
        "  for i in range(0, n):\n",
        "    line = \"\"\n",
        "    for j in range(0, m):\n",
        "      line += \"{0:.2f}\".format(A[i,j]) + \"\\t\"\n",
        "      if j == n-1:\n",
        "        line += \"| \"\n",
        "    print(line)\n",
        "  print(\"\")\n",
        "\n",
        "\n",
        "# 가우스-조단 소거법을 수행하는 함수\n",
        "def gauss(A):\n",
        "  (n,m) = A.shape\n",
        "\n",
        "  for i in range(0, min(n,m)):\n",
        "    # i번째 열에서 절댓값이 최대인 성분의 행 선택\n",
        "    maxEl = abs(A[i,i])\n",
        "    maxRow = i\n",
        "    for k in range(i+1, n):\n",
        "      if abs(A[k,i]) > maxEl:\n",
        "        maxEl = abs(A[k,i])\n",
        "        maxRow = k\n",
        "\n",
        "    # 현재 i번째 행과 최댓값을 갖는 행 maxRow의 교환\n",
        "    for k in range(i, m):\n",
        "      tmp = A[maxRow,k]\n",
        "      A[maxRow,k] = A[i,k]\n",
        "      A[i,k] = tmp\n",
        "\n",
        "    # 추축성분을 1로 만들기\n",
        "    piv = A[i,i]\n",
        "    for k in range(i, m):\n",
        "      A[i,k] = A[i,k]/piv\n",
        "\n",
        "    # 현재 i번째 열의 i번째 행을 제외한 모두 성분을 0으로 만들기\n",
        "    for k in range(0, n):\n",
        "      if k != i:\n",
        "        c = A[k,i]/A[i,i]\n",
        "        for j in range(i, m):\n",
        "          if i == j:\n",
        "            A[k,j] = 0\n",
        "          else:\n",
        "            A[k,j] = A[k,j] - c * A[i,j]\n",
        "\n",
        "    pprint(str(i+1)+\"번째 반복\", A) # 중간 과정 출력\n",
        "\n",
        "  # Ax=b의 해 반환\n",
        "  x = np.zeros(m-1)\n",
        "  for i in range(0, m-1):\n",
        "    x[i] = A[i,m-1]\n",
        "    return x\n",
        "\n",
        "# 주어진 문제\n",
        "# 2x1 + 2x2 + 4x3 = 18\n",
        "# x1 + 3x2 + 2x3 = 13\n",
        "# 3x1 + x2 + 3x3 = 14\n",
        "\n",
        "# 주어진 연립선형방정식에 대한 첨가행렬\n",
        "A = np.array([[2., 2., 4., 18.], [1., 3., 2., 13.], [3., 1., 3., 14.]])\n",
        "\n",
        "pprint(\"주어진 문제\", A) # 첨가행렬 출력\n",
        "x = gauss(A) # 가우스 - 조단 소거법 적용\n",
        "\n",
        "# 출력 생성\n",
        "(n,m) = A.shape\n",
        "line = \"해:\\t\"\n",
        "for i in range(0, m-1):\n",
        "  line += \"{0:.2f}\".format(x[i]) + \"\\t\"\n",
        "print(line)"
      ],
      "metadata": {
        "colab": {
          "base_uri": "https://localhost:8080/"
        },
        "id": "fvxPsjLHvZKW",
        "outputId": "1a402cb7-af87-4843-9632-ea0d5a4d1bbb"
      },
      "execution_count": 10,
      "outputs": [
        {
          "output_type": "stream",
          "name": "stdout",
          "text": [
            "--- 주어진 문제 ---\n",
            "2.00\t2.00\t4.00\t| 18.00\t\n",
            "1.00\t3.00\t2.00\t| 13.00\t\n",
            "3.00\t1.00\t3.00\t| 14.00\t\n",
            "\n",
            "--- 1번째 반복 ---\n",
            "1.00\t0.33\t1.00\t| 4.67\t\n",
            "0.00\t2.67\t1.00\t| 8.33\t\n",
            "0.00\t1.33\t2.00\t| 8.67\t\n",
            "\n",
            "--- 2번째 반복 ---\n",
            "1.00\t0.00\t0.88\t| 3.63\t\n",
            "0.00\t1.00\t0.38\t| 3.12\t\n",
            "0.00\t0.00\t1.50\t| 4.50\t\n",
            "\n",
            "--- 3번째 반복 ---\n",
            "1.00\t0.00\t0.00\t| 1.00\t\n",
            "0.00\t1.00\t0.00\t| 2.00\t\n",
            "0.00\t0.00\t1.00\t| 3.00\t\n",
            "\n",
            "해:\t1.00\t0.00\t0.00\t\n"
          ]
        }
      ]
    },
    {
      "cell_type": "code",
      "source": [],
      "metadata": {
        "id": "Z47bljncxeS5"
      },
      "execution_count": null,
      "outputs": []
    }
  ]
}