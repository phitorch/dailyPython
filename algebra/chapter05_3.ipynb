{
  "nbformat": 4,
  "nbformat_minor": 0,
  "metadata": {
    "colab": {
      "provenance": [],
      "authorship_tag": "ABX9TyOaB261l1EqvwyLtwJfMM1G",
      "include_colab_link": true
    },
    "kernelspec": {
      "name": "python3",
      "display_name": "Python 3"
    },
    "language_info": {
      "name": "python"
    }
  },
  "cells": [
    {
      "cell_type": "markdown",
      "metadata": {
        "id": "view-in-github",
        "colab_type": "text"
      },
      "source": [
        "<a href=\"https://colab.research.google.com/github/phitorch/dailyPython/blob/main/algebra/chapter05_3.ipynb\" target=\"_parent\"><img src=\"https://colab.research.google.com/assets/colab-badge.svg\" alt=\"Open In Colab\"/></a>"
      ]
    },
    {
      "cell_type": "code",
      "execution_count": 1,
      "metadata": {
        "id": "yDMBxZyhQZBK"
      },
      "outputs": [],
      "source": [
        "import numpy as np"
      ]
    },
    {
      "cell_type": "code",
      "source": [
        "def solveByCramer(A, B):  #크래머 공식을 이용한 연립선형방정식 AX=B의 풀이\n",
        "  X = np.zeros(len(B))\n",
        "  C = np.copy(A)\n",
        "  for i in range(0, len(B)):\n",
        "    for j in range(0, len(B)):\n",
        "      C[j,i] = B[j]\n",
        "      if i > 0:\n",
        "        C[j, i-1] = A[j, i-1]\n",
        "      X[i] = np.linalg.det(C)/np.linalg.det(A)\n",
        "  return X"
      ],
      "metadata": {
        "id": "HBk8PgswQbyZ"
      },
      "execution_count": 2,
      "outputs": []
    },
    {
      "cell_type": "code",
      "source": [
        "# AX=B의 해\n",
        "A = np.array([[2, -1, 5, 1], [3, 2, 2, -6], [1, 3, 3, -1], [5, -2, -3, 3]])\n",
        "B = np.array([[-3], [-32], [-47], [49]])\n",
        "X = solveByCramer(A, B)\n",
        "print(\"A =\", A)\n",
        "print(\"B =\", B)\n",
        "print(\"X =\", X)"
      ],
      "metadata": {
        "colab": {
          "base_uri": "https://localhost:8080/"
        },
        "id": "nq2Iulf_Qxyt",
        "outputId": "f5abdca2-4c0e-48e9-ae95-335f2d2a1e36"
      },
      "execution_count": 3,
      "outputs": [
        {
          "output_type": "stream",
          "name": "stdout",
          "text": [
            "A = [[ 2 -1  5  1]\n",
            " [ 3  2  2 -6]\n",
            " [ 1  3  3 -1]\n",
            " [ 5 -2 -3  3]]\n",
            "B = [[ -3]\n",
            " [-32]\n",
            " [-47]\n",
            " [ 49]]\n",
            "X = [  2. -12.  -4.   1.]\n"
          ]
        }
      ]
    },
    {
      "cell_type": "code",
      "source": [],
      "metadata": {
        "id": "mEtJYIZXQ5zq"
      },
      "execution_count": null,
      "outputs": []
    }
  ]
}