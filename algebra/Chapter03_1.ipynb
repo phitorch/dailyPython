{
  "nbformat": 4,
  "nbformat_minor": 0,
  "metadata": {
    "colab": {
      "provenance": [],
      "authorship_tag": "ABX9TyMpduRuqPACjtKaPk+A/db1"
    },
    "kernelspec": {
      "name": "python3",
      "display_name": "Python 3"
    },
    "language_info": {
      "name": "python"
    }
  },
  "cells": [
    {
      "cell_type": "code",
      "execution_count": 2,
      "metadata": {
        "colab": {
          "base_uri": "https://localhost:8080/"
        },
        "id": "F57spL6eBzt4",
        "outputId": "6fcfe284-15d7-4f90-9889-e829cbdd5e74"
      },
      "outputs": [
        {
          "output_type": "stream",
          "name": "stdout",
          "text": [
            "벡터의 결합에 의한 행렬 생성\n",
            "A = [[1 2 3]\n",
            " [4 5 6]\n",
            " [7 8 9]]\n",
            "B = [[1 4 7]\n",
            " [2 5 8]\n",
            " [3 6 9]]\n",
            "C = [[1 2]\n",
            " [3 4]\n",
            " [5 6]]\n",
            "D = [[1 2 7]\n",
            " [3 4 8]\n",
            " [5 6 9]]\n",
            "행렬의 성분 접근\n",
            "E[0,3] = 4\n",
            "E[1,2] = 7\n",
            "E[0:2, 2] = [3 7]\n",
            "E[0:2, 2:4] = [[3 4]\n",
            " [7 8]]\n",
            "E[2, :] = [ 9 10 11 12]\n",
            "성분의 변경\n",
            "E = [[ 1  2  3  4]\n",
            " [ 5  6  7  8]\n",
            " [ 9 10 11 12]]\n",
            "E[0,0] = 1\n",
            "[[-1  2  3  4]\n",
            " [ 5  6  7  8]\n",
            " [ 9 10 11 12]]\n",
            "E[0,0] = -1\n"
          ]
        }
      ],
      "source": [
        "import numpy as np\n",
        "\n",
        "print(\"벡터의 결합에 의한 행렬 생성\")\n",
        "v1 = np.array([1, 2, 3])\n",
        "v2 = np.array([4, 5, 6])\n",
        "v3 = np.array([7, 8, 9])\n",
        "\n",
        "A = np.vstack([v1, v2, v3])  # v1, v2, v3를 각각 행으로 하는 행렬 A 생성\n",
        "print(\"A =\", A)\n",
        "\n",
        "B = np.column_stack([v1, v2, v3]) # v1, v2, v3를 각각 열로 하는 행렬 A 생성\n",
        "print(\"B =\", B)\n",
        "\n",
        "C = np.array([[1, 2], [3, 4], [5, 6]])\n",
        "print(\"C =\", C)\n",
        "\n",
        "D = np.column_stack([C, v3])  # 행렬 C에 v3를 열로 추가하여 행렬 D 생성\n",
        "print(\"D =\", D)\n",
        "\n",
        "print(\"행렬의 성분 접근\")\n",
        "E = np.array([[1, 2, 3, 4], [5, 6, 7, 8], [9, 10, 11, 12]])\n",
        "\n",
        "print(\"E[0,3] =\", E[0,3]) # 1행 4열의 성분\n",
        "print(\"E[1,2] =\", E[1,2]) # 2행 3열의 성분\n",
        "\n",
        "print(\"E[0:2, 2] =\", E[0:2, 2]) # E의 1~2행의 3열에 해당하는 부분행렬\n",
        "print(\"E[0:2, 2:4] =\", E[0:2, 2:4]) # E의 1~2행의 3~4열에 해당하는 부분행렬\n",
        "print(\"E[2, :] =\", E[2, :]) # E의 3행에 해당하는 부분행렬\n",
        "\n",
        "print(\"성분의 변경\")\n",
        "print(\"E =\", E)\n",
        "\n",
        "print(\"E[0,0] =\", E[0,0])\n",
        "E[0,0] = -1 # E의 1행 1열 성분을 -1로 변경\n",
        "print(E)\n",
        "print(\"E[0,0] =\", E[0,0])"
      ]
    },
    {
      "cell_type": "markdown",
      "source": [
        "행렬과 벡터를 사용하는 연산을 할 대, 벡터를 행이나 열로 간주하고 결합하여 행렬을 생성하거나, 기존 행렬에 새로운 열을 추가하는 등의 방법을 사용한다. 또한 행렬의 특정 위치의 성분에 접근하거나 대체하는 등의 작업을 수행한다."
      ],
      "metadata": {
        "id": "MqamUcFPEzvb"
      }
    }
  ]
}