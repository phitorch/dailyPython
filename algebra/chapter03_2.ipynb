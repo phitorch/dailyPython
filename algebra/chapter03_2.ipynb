{
  "nbformat": 4,
  "nbformat_minor": 0,
  "metadata": {
    "colab": {
      "provenance": [],
      "authorship_tag": "ABX9TyON8wxK3JEzgKBmlrU0dCUc"
    },
    "kernelspec": {
      "name": "python3",
      "display_name": "Python 3"
    },
    "language_info": {
      "name": "python"
    }
  },
  "cells": [
    {
      "cell_type": "markdown",
      "source": [
        "행렬 곱에는 numpy에서 제공하는 matmul()함수를 사용하고, 행렬의 거듭제곱에는 numpy에서 제공하는 linalg.matrix_power() 함수를 사용하고, 블록행렬을 생성할 때는 block() 함수를 사용한다."
      ],
      "metadata": {
        "id": "whoQP5YwMaiI"
      }
    },
    {
      "cell_type": "code",
      "execution_count": 1,
      "metadata": {
        "colab": {
          "base_uri": "https://localhost:8080/"
        },
        "id": "a4KAuBcQMZ2m",
        "outputId": "d87e13aa-8d51-4e84-df85-c3ffe5e66cca"
      },
      "outputs": [
        {
          "output_type": "stream",
          "name": "stdout",
          "text": [
            "--- A+B ---\n",
            "3.000000\t4.000000\t\n",
            "4.000000\t7.000000\t\n",
            "\n",
            "--- A-B ---\n",
            "-1.000000\t0.000000\t\n",
            "2.000000\t1.000000\t\n",
            "\n",
            "--- 3*A ---\n",
            "3.000000\t6.000000\t\n",
            "9.000000\t12.000000\t\n",
            "\n",
            "--- 2*v ---\n",
            "20.000000\t\n",
            "40.000000\t\n",
            "\n",
            "--- matmul(A, B) ---\n",
            "4.000000\t8.000000\t\n",
            "10.000000\t18.000000\t\n",
            "\n",
            "--- matmul(A, C) ---\n",
            "18.000000\t21.000000\t24.000000\t\n",
            "40.000000\t47.000000\t54.000000\t\n",
            "\n",
            "--- A*v ---\n",
            "10.000000\t20.000000\t\n",
            "60.000000\t80.000000\t\n",
            "\n",
            "--- matrix_power(A, 2) ---\n",
            "7.000000\t10.000000\t\n",
            "15.000000\t22.000000\t\n",
            "\n",
            "--- matrix_power(A, 3) ---\n",
            "37.000000\t54.000000\t\n",
            "81.000000\t118.000000\t\n",
            "\n",
            "--- A*B ---\n",
            "2.000000\t4.000000\t\n",
            "3.000000\t12.000000\t\n",
            "\n",
            "--- A/B ---\n",
            "0.500000\t1.000000\t\n",
            "3.000000\t1.333333\t\n",
            "\n",
            "--- A**2 == A*A ---\n",
            "1.000000\t4.000000\t\n",
            "9.000000\t16.000000\t\n",
            "\n",
            "A.T [[1. 3.]\n",
            " [2. 4.]]\n",
            "v.T [[10. 20.]]\n",
            "--- diag(1,2,3) = ---\n",
            "1.000000\t0.000000\t0.000000\t\n",
            "0.000000\t2.000000\t0.000000\t\n",
            "0.000000\t0.000000\t3.000000\t\n",
            "\n",
            "--- block matrix ---\n",
            "1.000000\t2.000000\t5.000000\t\n",
            "3.000000\t4.000000\t6.000000\t\n",
            "7.000000\t7.000000\t8.000000\t\n",
            "\n"
          ]
        }
      ],
      "source": [
        "import numpy as np\n",
        "\n",
        "# 행렬 A를 출력하는 함수\n",
        "def pprint(msg, A):\n",
        "  print(\"---\", msg, \"---\")\n",
        "  (n,m) = A.shape\n",
        "  for i in range(0, n):\n",
        "    line = \"\"\n",
        "    for j in range(0, m):\n",
        "      line += \"{0:2f}\".format(A[i,j]) + \"\\t\"\n",
        "    print(line)\n",
        "  print(\"\")\n",
        "\n",
        "A = np.array([[1., 2.], [3., 4.]])\n",
        "B = np.array([[2., 2.], [1., 3.]])\n",
        "C = np.array([[4., 5., 6.], [7., 8., 9]])\n",
        "v = np.array([[10.], [20.]])\n",
        "\n",
        "pprint(\"A+B\", A+B)  # 행렬의 합 A+B\n",
        "pprint(\"A-B\", A-B)  # 행렬의 차 A-B\n",
        "\n",
        "pprint(\"3*A\", 3*A)  # 행렬의 스칼라배 3A\n",
        "pprint(\"2*v\", 2*v)  # 벡터의 스칼라배 2v\n",
        "\n",
        "pprint(\"matmul(A, B)\", np.matmul(A,B))  # 행렬의 곱 AB\n",
        "pprint(\"matmul(A, C)\", np.matmul(A,C))  # 행렬의 곱 AC\n",
        "pprint(\"A*v\", A*v)                      # 행렬과 벡터의 곱 Av\n",
        "\n",
        "pprint(\"matrix_power(A, 2)\", np.linalg.matrix_power(A, 2))  # 행렬의 거듭제곱 A2\n",
        "pprint(\"matrix_power(A, 3)\", np.linalg.matrix_power(A, 3))  # 행렬의 거듭제곱 A3\n",
        "\n",
        "pprint(\"A*B\", A*B)  # 행렬의 성분별 곱셈 A*B\n",
        "pprint(\"A/B\", A/B)  # 행렬의 성분별 나눗셈 A/B\n",
        "pprint(\"A**2 == A*A\", A**2) # 행렬의 성분별 거듭제곱 A**2\n",
        "\n",
        "print(\"A.T\", A.T)   # 행렬의 전치 AT\n",
        "print(\"v.T\", v.T)   # 벡터의 전치 vT\n",
        "\n",
        "M = np.diag([1, 2, 3])  # 대각행렬 diag(1,2,3) 생성\n",
        "pprint(\"diag(1,2,3) =\", M)\n",
        "\n",
        "D11 = np.array([[1, 2], [3, 4]])\n",
        "D12 = np.array([[5], [6]])\n",
        "D21 = np.array([[7, 7]])\n",
        "D22 = np.array([[8]])\n",
        "D = np.block([[D11, D12], [D21, D22]])  # 블록행렬 D 생성\n",
        "pprint(\"block matrix\", D)"
      ]
    },
    {
      "cell_type": "code",
      "source": [],
      "metadata": {
        "id": "1DuAINiwOZOk"
      },
      "execution_count": null,
      "outputs": []
    }
  ]
}