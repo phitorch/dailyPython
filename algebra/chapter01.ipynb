{
  "nbformat": 4,
  "nbformat_minor": 0,
  "metadata": {
    "colab": {
      "provenance": [],
      "authorship_tag": "ABX9TyPtEwCruU3d6iSYGKxvqXs6"
    },
    "kernelspec": {
      "name": "python3",
      "display_name": "Python 3"
    },
    "language_info": {
      "name": "python"
    }
  },
  "cells": [
    {
      "cell_type": "code",
      "execution_count": 2,
      "metadata": {
        "colab": {
          "base_uri": "https://localhost:8080/"
        },
        "id": "O1Yx0YU8Rnt7",
        "outputId": "40428ef3-5106-4634-94ab-b457be1f8e32"
      },
      "outputs": [
        {
          "output_type": "stream",
          "name": "stdout",
          "text": [
            "Input the number of values to be added => \n",
            "5\n",
            "1\n",
            "2\n",
            "3\n",
            "4\n",
            "5\n",
            "Sum =  15\n"
          ]
        }
      ],
      "source": [
        "def calc(n):\n",
        "  sum = 0\n",
        "  for i in range(0,n):\n",
        "    sum += int(input())\n",
        "  return sum\n",
        "\n",
        "print(\"Input the number of values to be added => \")\n",
        "count = int(input())\n",
        "while count <= 0:\n",
        "  count = int(input())\n",
        "print(\"Sum = \", calc(count))"
      ]
    },
    {
      "cell_type": "code",
      "source": [
        "import numpy as np\n",
        "\n",
        "A = np.array([[1, 2, 3],\n",
        "              [4, 5, 6],\n",
        "              [7, 8, 9]])\n",
        "\n",
        "v = np.array([[1],\n",
        "              [2],\n",
        "              [3]])\n",
        "print(\"A = \", A)\n",
        "print(\"v = \", v)"
      ],
      "metadata": {
        "colab": {
          "base_uri": "https://localhost:8080/"
        },
        "id": "KEjK8OGaSIDN",
        "outputId": "5bf2efeb-dffa-41ca-cde9-41d2e201a95b"
      },
      "execution_count": 4,
      "outputs": [
        {
          "output_type": "stream",
          "name": "stdout",
          "text": [
            "A =  [[1 2 3]\n",
            " [4 5 6]\n",
            " [7 8 9]]\n",
            "v =  [[1]\n",
            " [2]\n",
            " [3]]\n"
          ]
        }
      ]
    },
    {
      "cell_type": "code",
      "source": [
        "import numpy as np\n",
        "\n",
        "A = np.array([[1, 2, 3],\n",
        "              [4, 5, 6],\n",
        "              [7, 8, 9]])\n",
        "\n",
        "v = np.array([[1],\n",
        "              [2],\n",
        "              [3]])\n",
        "print(\"A = \", A)\n",
        "print(\"v = \", v)\n",
        "\n",
        "print(\"A.shape =\", A.shape)\n",
        "print(\"v.shape =\", v.shape)\n",
        "\n",
        "w = np.array([1, 2, 3])\n",
        "print(\"w =\", w)\n",
        "print(\"w.shape =\", w.shape)\n",
        "\n",
        "B = np.array([[1, 2, 3], [4, 5, 6]])\n",
        "print(\"B =\", B)\n",
        "print(\"B.shape =\", B.shape)"
      ],
      "metadata": {
        "colab": {
          "base_uri": "https://localhost:8080/"
        },
        "id": "3viNRYLISccM",
        "outputId": "a08707ee-954b-4b44-96de-2b0dc04f3e30"
      },
      "execution_count": 5,
      "outputs": [
        {
          "output_type": "stream",
          "name": "stdout",
          "text": [
            "A =  [[1 2 3]\n",
            " [4 5 6]\n",
            " [7 8 9]]\n",
            "v =  [[1]\n",
            " [2]\n",
            " [3]]\n",
            "A.shape = (3, 3)\n",
            "v.shape = (3, 1)\n",
            "w = [1 2 3]\n",
            "w.shape = (3,)\n",
            "B = [[1 2 3]\n",
            " [4 5 6]]\n",
            "B.shape = (2, 3)\n"
          ]
        }
      ]
    }
  ]
}