{
  "nbformat": 4,
  "nbformat_minor": 0,
  "metadata": {
    "colab": {
      "provenance": [],
      "authorship_tag": "ABX9TyNkcZWkNOZQ+6moJ1cvAGEZ"
    },
    "kernelspec": {
      "name": "python3",
      "display_name": "Python 3"
    },
    "language_info": {
      "name": "python"
    }
  },
  "cells": [
    {
      "cell_type": "code",
      "execution_count": null,
      "metadata": {
        "id": "FgWMY3BMDJPk"
      },
      "outputs": [],
      "source": [
        "import numpy as np\n",
        "\n",
        "# 행렬 A를 출력하는 함수\n",
        "def pprint(msg, A):\n",
        "  print(\"---\", msg, \"---\")\n",
        "  (n,m) = A.shape\n",
        "  for i in range(0, n):\n",
        "    line = \"\"\n",
        "    for j in range(0,m):\n",
        "      line += \"{0:.2f}.format(A[i,j]) + \\t\"\n",
        "    print(line)\n",
        "  print(\"\")\n",
        "\n",
        "A = np.array([1., 2.], [3., 4.])\n",
        "pprint(\"A\", A)\n",
        "\n",
        "Ainv1 = np.linalg.matrix_power(A, -1) # matrix_power()를 사용한 역행렬 A-1 계산\n",
        "pprint(\"linalg.matrix_power(A, -1) => Ainv1\", Ainv1)\n",
        "\n",
        "Ainv2 = np.linalg.inv(A)              # inv()를 사용한 역행렬 A-1 계산\n",
        "pprint(\"np.linalg.inv(A) => Ainv2\", Ainv2)\n",
        "\n",
        "pprint(\"A*Ainv1\", np.matmul(A, Ainv1))  # 행렬 A와 역행렬 A-1의 곱\n",
        "pprint(\"A*Ainv2\", np.matmul(A, Ainv2))  # 행렬 A와 역행렬 A-1의 곱\n",
        "\n",
        "B = np.random.rand(3,3) # 난수를 이용한 3 x 3 행렬 B 생성\n",
        "pprint(\"B=\", B)\n",
        "Binv = np.linalg.inv(B) # 역행렬 B-1 계산\n",
        "pprint(\"Binv = \", Binv)\n",
        "pprint(\"B*Binv =\", np.matmul(B, Binv))  # 행렬 B와 역행렬 B-1의 곱\n",
        "\n",
        "# CX = D의 해 계산\n",
        "C = np.array([[5, 3, 2, 1], [6, 2, 4, 5], [7, 4, 1, 3], [4, 3, 5, 2]])\n",
        "D = np.array([[4], [2], [5], [1]])\n",
        "x = np.matmul(np.linalg.inv(C), D)\n",
        "pprint(\"x\", x)                  # 해 x 출력\n",
        "pprint(\"C*x\", np.matmul(C, x))  # C*x의 결과가 D와 같은지 확인"
      ]
    }
  ]
}