{
  "nbformat": 4,
  "nbformat_minor": 0,
  "metadata": {
    "colab": {
      "provenance": [],
      "authorship_tag": "ABX9TyOYzhsyN4MkoXDJmRSrcbPW"
    },
    "kernelspec": {
      "name": "python3",
      "display_name": "Python 3"
    },
    "language_info": {
      "name": "python"
    }
  },
  "cells": [
    {
      "cell_type": "code",
      "execution_count": 1,
      "metadata": {
        "id": "k41sMK7-OkyR"
      },
      "outputs": [],
      "source": [
        "import numpy as np"
      ]
    },
    {
      "cell_type": "code",
      "source": [
        "def cofactor(A, i, j):  # 여인수 계산\n",
        "  (n,m) = A.shape\n",
        "  M = np.zeros((n-1, m-1))\n",
        "  for a in range(0, n-1):\n",
        "    k = a if (a < i) else a+1\n",
        "    for b in range(0, m-1):\n",
        "      l = b if (b < j) else b+1\n",
        "      M[a,b] = A[k,l]\n",
        "\n",
        "  return (-1)**(i+j)*np.linalg.det(M)"
      ],
      "metadata": {
        "id": "Cmlg8JyeOo5F"
      },
      "execution_count": 2,
      "outputs": []
    },
    {
      "cell_type": "code",
      "source": [
        "def inverseByAdjointMatrix(A):  # 수반행렬을 이용한 A의 역행렬 계산\n",
        "  detA = np.linalg.det(A)       # A의 행렬식 계산\n",
        "  (n, m) = A.shape\n",
        "  adjA = np.zeros((n,m))\n",
        "\n",
        "  for i in range(0,n):          # 수반행렬생성\n",
        "    for j in range(0,m):\n",
        "      adjA[j,i] = cofactor(A, i, j)\n",
        "  if detA != 0.0:\n",
        "    return (1./detA) * adjA\n",
        "  else:\n",
        "    return 0"
      ],
      "metadata": {
        "id": "uzZt_noBO_ji"
      },
      "execution_count": 3,
      "outputs": []
    },
    {
      "cell_type": "code",
      "source": [
        "A = np.array([[-4, 0, 2 ,-1, 0], [1, 3, -3, -1, 4], [2, 0, 1, 3, 0], [-2, 1, -3, -1, 5], [1, -5, 1, 0, 5]])\n",
        "print(\"A =\", A)\n",
        "\n",
        "Ainv = inverseByAdjointMatrix(A)\n",
        "print(\"A inverse = \", Ainv)"
      ],
      "metadata": {
        "colab": {
          "base_uri": "https://localhost:8080/"
        },
        "id": "N21Kj4EcP7fa",
        "outputId": "dc1921b0-6f4b-4fa9-beea-ec0e97da3368"
      },
      "execution_count": 5,
      "outputs": [
        {
          "output_type": "stream",
          "name": "stdout",
          "text": [
            "A = [[-4  0  2 -1  0]\n",
            " [ 1  3 -3 -1  4]\n",
            " [ 2  0  1  3  0]\n",
            " [-2  1 -3 -1  5]\n",
            " [ 1 -5  1  0  5]]\n",
            "A inverse =  [[-0.07321966  0.2106319  -0.03610832 -0.24573721  0.0772317 ]\n",
            " [ 0.16950853  0.26579739  0.09729188 -0.14343029 -0.06920762]\n",
            " [ 0.32397192  0.30090271  0.09127382 -0.35105316  0.11033099]\n",
            " [-0.05917753 -0.24072217  0.32698094  0.28084253 -0.08826479]\n",
            " [ 0.11935807  0.16349047  0.08625878 -0.02407222  0.09327984]]\n"
          ]
        }
      ]
    },
    {
      "cell_type": "code",
      "source": [],
      "metadata": {
        "id": "vtOrjFKHQAFB"
      },
      "execution_count": null,
      "outputs": []
    }
  ]
}