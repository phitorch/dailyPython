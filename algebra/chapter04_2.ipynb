{
  "nbformat": 4,
  "nbformat_minor": 0,
  "metadata": {
    "colab": {
      "provenance": [],
      "authorship_tag": "ABX9TyOu4ukDZ50E62EJ3LpAZMmw"
    },
    "kernelspec": {
      "name": "python3",
      "display_name": "Python 3"
    },
    "language_info": {
      "name": "python"
    }
  },
  "cells": [
    {
      "cell_type": "code",
      "source": [
        "import numpy as np\n",
        "\n",
        "# 행렬 A를 출력하는 함수\n",
        "def pprint(msg, A):\n",
        "  print(\"---\", msg, \"---\")\n",
        "  (n,m) = A.shape\n",
        "  for i in range(0, n):\n",
        "    line = \"\"\n",
        "    for j in range(0,m):\n",
        "      line += \"{0:.2f}\".format(A[i,j]) + \"\\t\"\n",
        "    print(line)\n",
        "  print(\"\")\n",
        "\n",
        "A = np.array([[1., 2.], [3., 4.]])\n",
        "pprint(\"A\", A)\n",
        "\n",
        "Ainv1 = np.linalg.matrix_power(A, -1) # matrix_power()를 사용한 역행렬 A-1 계산\n",
        "pprint(\"linalg.matrix_power(A, -1) => Ainv1\", Ainv1)\n",
        "\n",
        "Ainv2 = np.linalg.inv(A)              # inv()를 사용한 역행렬 A-1 계산\n",
        "pprint(\"np.linalg.inv(A) => Ainv2\", Ainv2)\n",
        "\n",
        "pprint(\"A*Ainv1\", np.matmul(A, Ainv1))  # 행렬 A와 역행렬 A-1의 곱\n",
        "pprint(\"A*Ainv2\", np.matmul(A, Ainv2))  # 행렬 A와 역행렬 A-1의 곱\n",
        "\n",
        "B = np.random.rand(3,3) # 난수를 이용한 3 x 3 행렬 B 생성\n",
        "pprint(\"B=\", B)\n",
        "Binv = np.linalg.inv(B) # 역행렬 B-1 계산\n",
        "pprint(\"Binv = \", Binv)\n",
        "pprint(\"B*Binv =\", np.matmul(B, Binv))  # 행렬 B와 역행렬 B-1의 곱\n",
        "\n",
        "# CX = D의 해 계산\n",
        "C = np.array([[5, 3, 2, 1], [6, 2, 4, 5], [7, 4, 1, 3], [4, 3, 5, 2]])\n",
        "D = np.array([[4], [2], [5], [1]])\n",
        "x = np.matmul(np.linalg.inv(C), D)\n",
        "pprint(\"x\", x)                  # 해 x 출력\n",
        "pprint(\"C*x\", np.matmul(C, x))  # C*x의 결과가 D와 같은지 확인"
      ],
      "metadata": {
        "colab": {
          "base_uri": "https://localhost:8080/"
        },
        "id": "RAl7GSrqRPiH",
        "outputId": "3cadf38d-47a5-47b1-e742-f858ac101717"
      },
      "execution_count": 14,
      "outputs": [
        {
          "output_type": "stream",
          "name": "stdout",
          "text": [
            "--- A ---\n",
            "1.00\t2.00\t\n",
            "3.00\t4.00\t\n",
            "\n",
            "--- linalg.matrix_power(A, -1) => Ainv1 ---\n",
            "-2.00\t1.00\t\n",
            "1.50\t-0.50\t\n",
            "\n",
            "--- np.linalg.inv(A) => Ainv2 ---\n",
            "-2.00\t1.00\t\n",
            "1.50\t-0.50\t\n",
            "\n",
            "--- A*Ainv1 ---\n",
            "1.00\t0.00\t\n",
            "0.00\t1.00\t\n",
            "\n",
            "--- A*Ainv2 ---\n",
            "1.00\t0.00\t\n",
            "0.00\t1.00\t\n",
            "\n",
            "--- B= ---\n",
            "0.95\t0.61\t0.90\t\n",
            "0.53\t0.53\t0.69\t\n",
            "0.59\t0.14\t0.42\t\n",
            "\n",
            "--- Binv =  ---\n",
            "7.16\t-7.40\t-3.16\t\n",
            "10.08\t-7.17\t-9.76\t\n",
            "-13.22\t12.62\t9.92\t\n",
            "\n",
            "--- B*Binv = ---\n",
            "1.00\t-0.00\t0.00\t\n",
            "0.00\t1.00\t-0.00\t\n",
            "0.00\t-0.00\t1.00\t\n",
            "\n",
            "--- x ---\n",
            "1.31\t\n",
            "-0.38\t\n",
            "-0.31\t\n",
            "-0.77\t\n",
            "\n",
            "--- C*x ---\n",
            "4.00\t\n",
            "2.00\t\n",
            "5.00\t\n",
            "1.00\t\n",
            "\n"
          ]
        }
      ]
    },
    {
      "cell_type": "code",
      "source": [
        "# LU 분해 함수\n",
        "def LU(A):\n",
        "  (n,m) = A.shape\n",
        "  L = np.zeros((n,n)) # 행렬 L 초기화\n",
        "  U = np.zeros((n,n)) # 행렬 U 초기화\n",
        "\n",
        "  # 행렬 L과 U 계산\n",
        "  for i in range(0, n):\n",
        "    for j in range(i, n):\n",
        "      U[i, j] = A[i, j]\n",
        "      for k in range(0, i):\n",
        "        U[i, j] = U[i, j] - L[i, k]*U[k, j]\n",
        "    L[i,i] = 1\n",
        "    if i < n-1:\n",
        "      p = i + 1\n",
        "      for j in range(0,p):\n",
        "        L[p, j] = A[p, j]\n",
        "        for k in range(0, j):\n",
        "          L[p, j] = L[p, j] - L[p, k]*U[k, j]\n",
        "        L[p,j] = L[p,j]/U[j,j]\n",
        "  return L, U"
      ],
      "metadata": {
        "id": "60gAXXtlPfxp"
      },
      "execution_count": 15,
      "outputs": []
    },
    {
      "cell_type": "code",
      "source": [
        "# LU 분해를 이용한 Ax=b의 해 구하기\n",
        "def LUSolver(A, b):\n",
        "  L, U = LU(A)\n",
        "  n = len(L)\n",
        "  # Ly=b 계산\n",
        "  y = np.zeros((n,1))\n",
        "  for i in range(0,n):\n",
        "    y[i] = b[i]\n",
        "    for k in range(0,i):\n",
        "      y[i] -= y[k]*L[i,k]\n",
        "  # Ux=y 계산\n",
        "  x = np.zeros((n,1))\n",
        "  for i in range(n-1, -1, -1):\n",
        "    x[i] = y[i]\n",
        "    if i < n-1:\n",
        "      for k in range(i+1,n):\n",
        "        x[i] -= x[k]*U[i,k]\n",
        "    x[i] = x[i]/float(U[i,i])\n",
        "  return x"
      ],
      "metadata": {
        "id": "0zl9Xkv_Pgy6"
      },
      "execution_count": 16,
      "outputs": []
    },
    {
      "cell_type": "code",
      "source": [
        "A = np.array([[5, 3, 2, 1], [6, 2, 4, 5], [7, 4, 1, 3], [4, 3, 5, 2]])\n",
        "b = np.array([[4], [2], [5], [1]])"
      ],
      "metadata": {
        "id": "TNTYobu2Q30-"
      },
      "execution_count": 17,
      "outputs": []
    },
    {
      "cell_type": "code",
      "source": [
        "# 행렬 A의 LU 분해\n",
        "L, U = LU(A)\n",
        "pprint(\"A\", A)\n",
        "pprint(\"L\", L)\n",
        "pprint(\"U\", U)"
      ],
      "metadata": {
        "colab": {
          "base_uri": "https://localhost:8080/"
        },
        "id": "ElUFOiL5RAd9",
        "outputId": "32786032-c5fe-4655-cc87-e88223d16bdf"
      },
      "execution_count": 18,
      "outputs": [
        {
          "output_type": "stream",
          "name": "stdout",
          "text": [
            "--- A ---\n",
            "5.00\t3.00\t2.00\t1.00\t\n",
            "6.00\t2.00\t4.00\t5.00\t\n",
            "7.00\t4.00\t1.00\t3.00\t\n",
            "4.00\t3.00\t5.00\t2.00\t\n",
            "\n",
            "--- L ---\n",
            "1.00\t0.00\t0.00\t0.00\t\n",
            "1.20\t1.00\t0.00\t0.00\t\n",
            "1.40\t0.12\t1.00\t0.00\t\n",
            "0.80\t-0.37\t-2.00\t1.00\t\n",
            "\n",
            "--- U ---\n",
            "5.00\t3.00\t2.00\t1.00\t\n",
            "0.00\t-1.60\t1.60\t3.80\t\n",
            "0.00\t0.00\t-2.00\t1.13\t\n",
            "0.00\t0.00\t0.00\t4.88\t\n",
            "\n"
          ]
        }
      ]
    },
    {
      "cell_type": "code",
      "source": [
        "# LU 분해를 이용한 Ax=b의 해 구하기\n",
        "x = LUSolver(A,b)\n",
        "pprint(\"x\", x)"
      ],
      "metadata": {
        "colab": {
          "base_uri": "https://localhost:8080/"
        },
        "id": "y8Xf2t6_RpLk",
        "outputId": "45fe497c-f5ec-41d1-8615-215dc2eace7c"
      },
      "execution_count": 19,
      "outputs": [
        {
          "output_type": "stream",
          "name": "stdout",
          "text": [
            "--- x ---\n",
            "1.31\t\n",
            "-0.38\t\n",
            "-0.31\t\n",
            "-0.77\t\n",
            "\n"
          ]
        }
      ]
    }
  ]
}