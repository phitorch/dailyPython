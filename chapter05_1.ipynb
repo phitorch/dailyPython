{
  "nbformat": 4,
  "nbformat_minor": 0,
  "metadata": {
    "colab": {
      "provenance": [],
      "authorship_tag": "ABX9TyOuxFP4v1Ye/PGmeR6CAbK5"
    },
    "kernelspec": {
      "name": "python3",
      "display_name": "Python 3"
    },
    "language_info": {
      "name": "python"
    }
  },
  "cells": [
    {
      "cell_type": "code",
      "execution_count": 1,
      "metadata": {
        "id": "2argOUSHMk6d"
      },
      "outputs": [],
      "source": [
        "import numpy as np"
      ]
    },
    {
      "cell_type": "code",
      "source": [
        "def getMinorMatrix(A,i,j):  # 행렬 A의 i행과 j열을 제거하고 만든 행렬 생성\n",
        "  n = len(A)\n",
        "  M = np.zeros((n-1, n-1))\n",
        "  for a in range(0, n-1):\n",
        "    k = a if (a < i) else a+1\n",
        "    for b in range(0, n-1):\n",
        "      l = b if (b < j) else b+1\n",
        "      M[a, b] = A[k,l]\n",
        "  return M"
      ],
      "metadata": {
        "id": "I0LmXA9kM8wQ"
      },
      "execution_count": 2,
      "outputs": []
    },
    {
      "cell_type": "code",
      "source": [
        "def determinant(M): # 행렬식 계산\n",
        "  if len(M) == 2:   # 2X2 행렬의 행렬식 계산\n",
        "    return M[0,0]*M[1,1]-M[0,1]*M[1,0]\n",
        "\n",
        "  detVal = 0\n",
        "  for c in range(len(M)):\n",
        "    detVal += ((-1)**c)*M[0,c]*determinant(getMinorMatrix(M,0,c))\n",
        "  return detVal\n",
        "\n",
        "A = np.array([[-4, 0, 2 ,-1, 0], [1, 3, -3, -1, 4], [2, 0, 1, 3, 0], [-2, 1, -3, -1, 5], [1, -5, 1, 0, 5]])\n",
        "print(\"A =\", A)\n",
        "print(\"det(A) =\", determinant(A))"
      ],
      "metadata": {
        "colab": {
          "base_uri": "https://localhost:8080/"
        },
        "id": "4Qhjn3OSNUGY",
        "outputId": "7dcb34ac-50a3-49a6-d6e3-c488d49ce67a"
      },
      "execution_count": 3,
      "outputs": [
        {
          "output_type": "stream",
          "name": "stdout",
          "text": [
            "A = [[-4  0  2 -1  0]\n",
            " [ 1  3 -3 -1  4]\n",
            " [ 2  0  1  3  0]\n",
            " [-2  1 -3 -1  5]\n",
            " [ 1 -5  1  0  5]]\n",
            "det(A) = -997.0\n"
          ]
        }
      ]
    }
  ]
}