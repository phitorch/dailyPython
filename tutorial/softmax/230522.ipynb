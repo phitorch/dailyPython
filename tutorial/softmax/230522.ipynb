{
  "nbformat": 4,
  "nbformat_minor": 0,
  "metadata": {
    "colab": {
      "provenance": [],
      "authorship_tag": "ABX9TyOnK88S0aon1bok+ZywG7gC"
    },
    "kernelspec": {
      "name": "python3",
      "display_name": "Python 3"
    },
    "language_info": {
      "name": "python"
    }
  },
  "cells": [
    {
      "cell_type": "code",
      "source": [
        "from sklearn.datasets import load_iris\n",
        "from sklearn.model_selection import train_test_split\n",
        "import numpy as np\n",
        "import matplotlib.pyplot as plt"
      ],
      "metadata": {
        "id": "-zHeDMwNgmMv"
      },
      "execution_count": 8,
      "outputs": []
    },
    {
      "cell_type": "code",
      "source": [
        "data = load_iris()\n",
        "#create train and test set for input and output, test_size represent the % of test data\n",
        "X_train, X_test, y_train, y_test = train_test_split(data.data, data.target, test_size=0.25)\n",
        "\n",
        "#no of rows\n",
        "m = X_train.shape[0]\n",
        "\n",
        "#As we are using linearity, For vector multiplication adding a column in X with all the value 1\n",
        "X = np.hstack((np.ones((m,1)),X_train))"
      ],
      "metadata": {
        "id": "f8dAAqGogzDM"
      },
      "execution_count": 9,
      "outputs": []
    },
    {
      "cell_type": "code",
      "source": [
        "k = np.unique(data.target)\n",
        "k.sort()\n",
        "\n",
        "Y = np.zeros((m,len(k)))\n",
        "    \n",
        "for cls in k.astype(int):\n",
        "    Y[np.where(y_train[:] == cls),cls] = 1"
      ],
      "metadata": {
        "id": "lSGkH1NYg7Tt"
      },
      "execution_count": 10,
      "outputs": []
    },
    {
      "cell_type": "code",
      "source": [
        "def softmax(z):\n",
        "    return np.exp(z) / np.sum(np.exp(z), axis=1).reshape(z.shape[0], 1)"
      ],
      "metadata": {
        "id": "EWUwN2J-hAoX"
      },
      "execution_count": 11,
      "outputs": []
    },
    {
      "cell_type": "code",
      "source": [
        "#define theta with size 3,5 as there are 3 classes and 5 features, lets take the initial value as 0\n",
        "theta = np.zeros((3,5))\n",
        "\n",
        "#learning rate\n",
        "learning_rate = 0.001\n",
        "\n",
        "#to store cost values\n",
        "cost_arr = []\n",
        "\n",
        "#no of iterations we want our model to be trained\n",
        "no_of_iterations = 50000\n",
        "\n",
        "#counter\n",
        "i = 0\n",
        "\n",
        "for i in range(no_of_iterations):\n",
        "\n",
        "    #model/hypothesis function\n",
        "    lineq = np.dot(X, theta.T)\n",
        "    h = softmax(lineq)\n",
        "\n",
        "    #Cost function \n",
        "    cost = -np.sum(Y * np.log(h)) / m\n",
        "    cost_arr.append(cost)\n",
        "    \n",
        "    #using gradient calculate new theta\n",
        "    delta = (learning_rate/m) * np.dot((h-Y).T, X)\n",
        "    theta = theta - delta\n",
        "    \n",
        "    i = i + 1"
      ],
      "metadata": {
        "id": "zE-OIIHohDqX"
      },
      "execution_count": 12,
      "outputs": []
    },
    {
      "cell_type": "code",
      "source": [
        "plt.plot(cost_arr)\n",
        "plt.show()"
      ],
      "metadata": {
        "colab": {
          "base_uri": "https://localhost:8080/",
          "height": 430
        },
        "id": "3zcQS83dhIvy",
        "outputId": "b07ed06c-2e49-48a2-bb6f-f9a268111ec9"
      },
      "execution_count": 13,
      "outputs": [
        {
          "output_type": "display_data",
          "data": {
            "text/plain": [
              "<Figure size 640x480 with 1 Axes>"
            ],
            "image/png": "[encoded data removed]"
          },
          "metadata": {}
        }
      ]
    },
    {
      "cell_type": "code",
      "source": [
        "#no of test samples\n",
        "m_test = X_test.shape[0]\n",
        "\n",
        "#As we are using vector implementation adding a column in test_X with all the value 1\n",
        "X_test = np.hstack((np.ones((m_test,1)),X_test))\n",
        "\n",
        "probab = softmax(np.dot(X_test,theta.T))\n",
        "predict = np.argmax(probab, axis=1)"
      ],
      "metadata": {
        "id": "K0Hbc1qyhMgB"
      },
      "execution_count": 14,
      "outputs": []
    },
    {
      "cell_type": "code",
      "source": [
        "from sklearn import linear_model\n",
        "from sklearn.metrics import mean_squared_error, explained_variance_score, accuracy_score\n",
        "\n",
        "#train the model with training data\n",
        "regr = linear_model.LogisticRegression()\n",
        "regr.fit(X,y_train)\n",
        "\n",
        "#Predict our test data\n",
        "sklearn_predict = regr.predict(X_test)\n",
        "\n",
        "print('Sklearn')\n",
        "#coefficients\n",
        "print('Coefficients: {}'.format(regr.coef_))\n",
        "# Accuracy score\n",
        "print(\"Accuracy score: %.2f\" % accuracy_score(sklearn_predict, y_test))\n",
        "# The mean squared error\n",
        "print(\"Mean squared error: %.2f\" % mean_squared_error(sklearn_predict, y_test))\n",
        "# Explained variance score: 1 is perfect prediction\n",
        "print('Variance score: %.2f' % explained_variance_score(y_test, sklearn_predict))\n",
        "\n",
        "print('\\n')\n",
        "\n",
        "print('Our Model')\n",
        "#coefficients\n",
        "print('Coefficients: {}'.format(theta))\n",
        "# Accuracy score\n",
        "print(\"Accuracy score: %.2f\" % accuracy_score(predict, y_test))\n",
        "# The mean squared error\n",
        "print(\"Mean squared error: %.2f\" % mean_squared_error(predict, y_test))\n",
        "# Explained variance score: 1 is perfect prediction\n",
        "print('Variance score: %.2f' % explained_variance_score(y_test, predict))"
      ],
      "metadata": {
        "colab": {
          "base_uri": "https://localhost:8080/"
        },
        "id": "rv25wk5OhPdn",
        "outputId": "f082162d-7a7b-4eec-b1b5-1cf209162281"
      },
      "execution_count": 15,
      "outputs": [
        {
          "output_type": "stream",
          "name": "stdout",
          "text": [
            "Sklearn\n",
            "Coefficients: [[-7.85529996e-04 -3.59984405e-01  9.44235044e-01 -2.33965187e+00\n",
            "  -1.00936200e+00]\n",
            " [ 3.74992189e-03  5.37837746e-01 -3.15013120e-01 -2.10636151e-01\n",
            "  -7.69969898e-01]\n",
            " [-2.96439189e-03 -1.77853341e-01 -6.29221924e-01  2.55028803e+00\n",
            "   1.77933189e+00]]\n",
            "Accuracy score: 0.97\n",
            "Mean squared error: 0.03\n",
            "Variance score: 0.96\n",
            "\n",
            "\n",
            "Our Model\n",
            "Coefficients: [[ 0.31467707  0.66840167  1.61803872 -2.22847947 -1.03075195]\n",
            " [ 0.37352381  0.61577533 -0.3166096  -0.08076555 -0.73622539]\n",
            " [-0.68820089 -1.284177   -1.30142912  2.30924502  1.76697733]]\n",
            "Accuracy score: 0.97\n",
            "Mean squared error: 0.03\n",
            "Variance score: 0.96\n"
          ]
        },
        {
          "output_type": "stream",
          "name": "stderr",
          "text": [
            "/usr/local/lib/python3.10/dist-packages/sklearn/linear_model/_logistic.py:458: ConvergenceWarning: lbfgs failed to converge (status=1):\n",
            "STOP: TOTAL NO. of ITERATIONS REACHED LIMIT.\n",
            "\n",
            "Increase the number of iterations (max_iter) or scale the data as shown in:\n",
            "    https://scikit-learn.org/stable/modules/preprocessing.html\n",
            "Please also refer to the documentation for alternative solver options:\n",
            "    https://scikit-learn.org/stable/modules/linear_model.html#logistic-regression\n",
            "  n_iter_i = _check_optimize_result(\n"
          ]
        }
      ]
    }
  ]
}