{
  "nbformat": 4,
  "nbformat_minor": 0,
  "metadata": {
    "colab": {
      "provenance": [],
      "authorship_tag": "ABX9TyMKIt0+mTqg7pnIkHcYm9EM"
    },
    "kernelspec": {
      "name": "python3",
      "display_name": "Python 3"
    },
    "language_info": {
      "name": "python"
    }
  },
  "cells": [
    {
      "cell_type": "code",
      "execution_count": 3,
      "metadata": {
        "colab": {
          "base_uri": "https://localhost:8080/"
        },
        "id": "kfm6Uz6wh69r",
        "outputId": "797960fc-ea14-45a7-993b-7dd3714866ad"
      },
      "outputs": [
        {
          "output_type": "stream",
          "name": "stdout",
          "text": [
            "Test Accuracy:  1.0\n"
          ]
        }
      ],
      "source": [
        "from sklearn import datasets\n",
        "from sklearn.linear_model import LogisticRegression\n",
        "from sklearn.model_selection import train_test_split\n",
        "from sklearn.preprocessing import StandardScaler\n",
        "\n",
        "# Iris 데이터 로드\n",
        "iris = datasets.load_iris()\n",
        "\n",
        "# 독립변수와 종속변수 분리\n",
        "X = iris.data\n",
        "y = iris.target\n",
        "\n",
        "# 데이터를 학습 데이터와 테스트 데이터로 분리\n",
        "X_train, X_test, y_train, y_test = train_test_split(X, y, test_size=0.2, random_state=42)\n",
        "\n",
        "# 데이터 스케일링\n",
        "scaler = StandardScaler()\n",
        "X_train = scaler.fit_transform(X_train)\n",
        "X_test = scaler.transform(X_test)\n",
        "\n",
        "# softmax regression 모델 생성 및 학습\n",
        "softmax_reg = LogisticRegression(multi_class=\"multinomial\",solver=\"lbfgs\", C=10)\n",
        "softmax_reg.fit(X_train, y_train)\n",
        "\n",
        "# 테스트 데이터에 대한 예측 수행\n",
        "y_pred = softmax_reg.predict(X_test)\n",
        "\n",
        "# 모델의 정확도 출력\n",
        "print(\"Test Accuracy: \", softmax_reg.score(X_test, y_test))\n"
      ]
    }
  ]
}