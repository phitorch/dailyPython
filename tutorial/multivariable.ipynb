{
  "nbformat": 4,
  "nbformat_minor": 0,
  "metadata": {
    "colab": {
      "provenance": [],
      "authorship_tag": "ABX9TyNrovI9I4T/7W5VnKkPGXuy"
    },
    "kernelspec": {
      "name": "python3",
      "display_name": "Python 3"
    },
    "language_info": {
      "name": "python"
    }
  },
  "cells": [
    {
      "cell_type": "code",
      "execution_count": null,
      "metadata": {
        "id": "74bq9GBs_5Is"
      },
      "outputs": [],
      "source": [
        "import tensorflow as tf\n",
        "\n",
        "# 데이터를 로드합니다.\n",
        "x_data = [[1, 2], [2, 3], [3, 4], [4, 5], [5, 6]]\n",
        "y_data = [[2], [4], [6], [8], [10]]\n",
        "\n",
        "# 모델을 만듭니다.\n",
        "model = tf.keras.Sequential([\n",
        "  tf.keras.layers.Input(shape=(2,)),\n",
        "  tf.keras.layers.Dense(1, activation='linear')\n",
        "])\n",
        "\n",
        "# 모델을 컴파일합니다.\n",
        "model.compile(optimizer='adam', loss='mse')\n",
        "\n",
        "# 모델을 학습합니다.\n",
        "model.fit(x_data, y_data, epochs=100)\n",
        "\n",
        "# 모델을 평가합니다.\n",
        "loss = model.evaluate(x_data, y_data)\n",
        "print('Loss:', loss)\n",
        "\n",
        "# 예측을 합니다.\n",
        "predictions = model.predict([[1, 2]])\n",
        "print('Predictions:', predictions)"
      ]
    }
  ]
}