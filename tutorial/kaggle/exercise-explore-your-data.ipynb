{
 "cells": [
  {
   "cell_type": "markdown",
   "id": "3eed1d34",
   "metadata": {
    "papermill": {
     "duration": 0.005312,
     "end_time": "2023-05-22T05:52:27.009464",
     "exception": false,
     "start_time": "2023-05-22T05:52:27.004152",
     "status": "completed"
    },
    "tags": []
   },
   "source": [
    "**[Machine Learning Course Home Page](https://www.kaggle.com/learn/machine-learning)**\n",
    "\n",
    "---\n"
   ]
  },
  {
   "cell_type": "markdown",
   "id": "0d8a04b6",
   "metadata": {
    "papermill": {
     "duration": 0.005015,
     "end_time": "2023-05-22T05:52:27.019561",
     "exception": false,
     "start_time": "2023-05-22T05:52:27.014546",
     "status": "completed"
    },
    "tags": []
   },
   "source": [
    "This exercise will test your ability to read a data file and understand statistics about the data.\n",
    "\n",
    "In later exercises, you will apply techniques to filter the data, build a machine learning model, and iteratively improve your model.\n",
    "\n",
    "The course examples use data from Melbourne. To ensure you can apply these techniques on your own, you will have to apply them to a new dataset (with house prices from Iowa).\n",
    "\n",
    "The exercises use a \"notebook\" coding environment.  In case you are unfamiliar with notebooks, we have a [90-second intro video](https://www.youtube.com/watch?v=4C2qMnaIKL4).\n",
    "\n",
    "# Exercises\n",
    "\n",
    "Run the following cell to set up code-checking, which will verify your work as you go."
   ]
  },
  {
   "cell_type": "code",
   "execution_count": 1,
   "id": "a6a77143",
   "metadata": {
    "execution": {
     "iopub.execute_input": "2023-05-22T05:52:27.031762Z",
     "iopub.status.busy": "2023-05-22T05:52:27.031257Z",
     "iopub.status.idle": "2023-05-22T05:52:27.088298Z",
     "shell.execute_reply": "2023-05-22T05:52:27.086967Z"
    },
    "papermill": {
     "duration": 0.067265,
     "end_time": "2023-05-22T05:52:27.091544",
     "exception": false,
     "start_time": "2023-05-22T05:52:27.024279",
     "status": "completed"
    },
    "tags": []
   },
   "outputs": [
    {
     "name": "stdout",
     "output_type": "stream",
     "text": [
      "Setup Complete\n"
     ]
    }
   ],
   "source": [
    "# Set up code checking\n",
    "from learntools.core import binder\n",
    "binder.bind(globals())\n",
    "from learntools.machine_learning.ex2 import *\n",
    "print(\"Setup Complete\")"
   ]
  },
  {
   "cell_type": "markdown",
   "id": "edde9bcc",
   "metadata": {
    "papermill": {
     "duration": 0.00446,
     "end_time": "2023-05-22T05:52:27.100879",
     "exception": false,
     "start_time": "2023-05-22T05:52:27.096419",
     "status": "completed"
    },
    "tags": []
   },
   "source": [
    "## Step 1: Loading Data\n",
    "Read the Iowa data file into a Pandas DataFrame called `home_data`."
   ]
  },
  {
   "cell_type": "code",
   "execution_count": 2,
   "id": "98769635",
   "metadata": {
    "execution": {
     "iopub.execute_input": "2023-05-22T05:52:27.112756Z",
     "iopub.status.busy": "2023-05-22T05:52:27.112255Z",
     "iopub.status.idle": "2023-05-22T05:52:27.124357Z",
     "shell.execute_reply": "2023-05-22T05:52:27.123017Z"
    },
    "papermill": {
     "duration": 0.021232,
     "end_time": "2023-05-22T05:52:27.126878",
     "exception": false,
     "start_time": "2023-05-22T05:52:27.105646",
     "status": "completed"
    },
    "tags": []
   },
   "outputs": [
    {
     "data": {
      "application/javascript": [
       "parent.postMessage({\"jupyterEvent\": \"custom.exercise_interaction\", \"data\": {\"outcomeType\": 4, \"interactionType\": 1, \"questionType\": 1, \"questionId\": \"1_LoadHomeData\", \"learnToolsVersion\": \"0.3.4\", \"valueTowardsCompletion\": 0.0, \"failureMessage\": \"\", \"exceptionClass\": \"\", \"trace\": \"\"}}, \"*\")"
      ],
      "text/plain": [
       "<IPython.core.display.Javascript object>"
      ]
     },
     "metadata": {},
     "output_type": "display_data"
    },
    {
     "data": {
      "text/markdown": [
       "<span style=\"color:#ccaa33\">Check:</span> When you've updated the starter code, `check()` will tell you whether your code is correct. You need to update the code that creates variable `home_data`"
      ],
      "text/plain": [
       "Check: When you've updated the starter code, `check()` will tell you whether your code is correct. You need to update the code that creates variable `home_data`"
      ]
     },
     "metadata": {},
     "output_type": "display_data"
    }
   ],
   "source": [
    "import pandas as pd\n",
    "\n",
    "# Path of the file to read\n",
    "iowa_file_path = '../input/home-data-for-ml-course/train.csv'\n",
    "\n",
    "# Fill in the line below to read the file into a variable home_data\n",
    "home_data = ____\n",
    "\n",
    "# Call line below with no argument to check that you've loaded the data correctly\n",
    "step_1.check()"
   ]
  },
  {
   "cell_type": "code",
   "execution_count": 3,
   "id": "de94f7cb",
   "metadata": {
    "execution": {
     "iopub.execute_input": "2023-05-22T05:52:27.139579Z",
     "iopub.status.busy": "2023-05-22T05:52:27.139102Z",
     "iopub.status.idle": "2023-05-22T05:52:27.144281Z",
     "shell.execute_reply": "2023-05-22T05:52:27.142771Z"
    },
    "papermill": {
     "duration": 0.014842,
     "end_time": "2023-05-22T05:52:27.146881",
     "exception": false,
     "start_time": "2023-05-22T05:52:27.132039",
     "status": "completed"
    },
    "tags": []
   },
   "outputs": [],
   "source": [
    "# Lines below will give you a hint or solution code\n",
    "#step_1.hint()\n",
    "#step_1.solution()"
   ]
  },
  {
   "cell_type": "markdown",
   "id": "b3bda444",
   "metadata": {
    "papermill": {
     "duration": 0.005112,
     "end_time": "2023-05-22T05:52:27.157207",
     "exception": false,
     "start_time": "2023-05-22T05:52:27.152095",
     "status": "completed"
    },
    "tags": []
   },
   "source": [
    "## Step 2: Review The Data\n",
    "Use the command you learned to view summary statistics of the data. Then fill in variables to answer the following questions"
   ]
  },
  {
   "cell_type": "code",
   "execution_count": 4,
   "id": "d1a0bcdc",
   "metadata": {
    "execution": {
     "iopub.execute_input": "2023-05-22T05:52:27.169898Z",
     "iopub.status.busy": "2023-05-22T05:52:27.169397Z",
     "iopub.status.idle": "2023-05-22T05:52:27.176362Z",
     "shell.execute_reply": "2023-05-22T05:52:27.175138Z"
    },
    "papermill": {
     "duration": 0.016405,
     "end_time": "2023-05-22T05:52:27.178898",
     "exception": false,
     "start_time": "2023-05-22T05:52:27.162493",
     "status": "completed"
    },
    "tags": []
   },
   "outputs": [
    {
     "data": {
      "text/markdown": [],
      "text/plain": [
       "<learntools.core.constants.PlaceholderValue at 0x7deb8aad1d80>"
      ]
     },
     "execution_count": 4,
     "metadata": {},
     "output_type": "execute_result"
    }
   ],
   "source": [
    "# Print summary statistics in next line\n",
    "____"
   ]
  },
  {
   "cell_type": "code",
   "execution_count": 5,
   "id": "8b144c3e",
   "metadata": {
    "execution": {
     "iopub.execute_input": "2023-05-22T05:52:27.192216Z",
     "iopub.status.busy": "2023-05-22T05:52:27.191066Z",
     "iopub.status.idle": "2023-05-22T05:52:27.202340Z",
     "shell.execute_reply": "2023-05-22T05:52:27.200693Z"
    },
    "papermill": {
     "duration": 0.020871,
     "end_time": "2023-05-22T05:52:27.204996",
     "exception": false,
     "start_time": "2023-05-22T05:52:27.184125",
     "status": "completed"
    },
    "tags": []
   },
   "outputs": [
    {
     "data": {
      "application/javascript": [
       "parent.postMessage({\"jupyterEvent\": \"custom.exercise_interaction\", \"data\": {\"outcomeType\": 4, \"interactionType\": 1, \"questionType\": 1, \"questionId\": \"2_HomeDescription\", \"learnToolsVersion\": \"0.3.4\", \"valueTowardsCompletion\": 0.0, \"failureMessage\": \"\", \"exceptionClass\": \"\", \"trace\": \"\"}}, \"*\")"
      ],
      "text/plain": [
       "<IPython.core.display.Javascript object>"
      ]
     },
     "metadata": {},
     "output_type": "display_data"
    },
    {
     "data": {
      "text/markdown": [
       "<span style=\"color:#ccaa33\">Check:</span> When you've updated the starter code, `check()` will tell you whether your code is correct. You need to update the code that creates variables `avg_lot_size`, `newest_home_age`"
      ],
      "text/plain": [
       "Check: When you've updated the starter code, `check()` will tell you whether your code is correct. You need to update the code that creates variables `avg_lot_size`, `newest_home_age`"
      ]
     },
     "metadata": {},
     "output_type": "display_data"
    }
   ],
   "source": [
    "# What is the average lot size (rounded to nearest integer)?\n",
    "avg_lot_size = ____\n",
    "\n",
    "# As of today, how old is the newest home (current year - the date in which it was built)\n",
    "newest_home_age = ____\n",
    "\n",
    "# Checks your answers\n",
    "step_2.check()"
   ]
  },
  {
   "cell_type": "code",
   "execution_count": 6,
   "id": "636e0f45",
   "metadata": {
    "execution": {
     "iopub.execute_input": "2023-05-22T05:52:27.219471Z",
     "iopub.status.busy": "2023-05-22T05:52:27.218555Z",
     "iopub.status.idle": "2023-05-22T05:52:27.223941Z",
     "shell.execute_reply": "2023-05-22T05:52:27.222684Z"
    },
    "papermill": {
     "duration": 0.015478,
     "end_time": "2023-05-22T05:52:27.226440",
     "exception": false,
     "start_time": "2023-05-22T05:52:27.210962",
     "status": "completed"
    },
    "tags": []
   },
   "outputs": [],
   "source": [
    "#step_2.hint()\n",
    "#step_2.solution()"
   ]
  },
  {
   "cell_type": "markdown",
   "id": "8a8f8c18",
   "metadata": {
    "papermill": {
     "duration": 0.005114,
     "end_time": "2023-05-22T05:52:27.237234",
     "exception": false,
     "start_time": "2023-05-22T05:52:27.232120",
     "status": "completed"
    },
    "tags": []
   },
   "source": [
    "## Think About Your Data\n",
    "\n",
    "The newest house in your data isn't that new.  A few potential explanations for this:\n",
    "1. They haven't built new houses where this data was collected.\n",
    "1. The data was collected a long time ago. Houses built after the data publication wouldn't show up.\n",
    "\n",
    "If the reason is explanation #1 above, does that affect your trust in the model you build with this data? What about if it is reason #2?\n",
    "\n",
    "How could you dig into the data to see which explanation is more plausible?\n",
    "\n",
    "Check out this **[discussion thread](https://www.kaggle.com/learn-forum/60581)** to see what others think or to add your ideas.\n",
    "\n",
    "# Keep Going\n",
    "\n",
    "You are ready for **[Your First Machine Learning Model](https://www.kaggle.com/dansbecker/your-first-machine-learning-model).**\n"
   ]
  },
  {
   "cell_type": "markdown",
   "id": "b271fe5f",
   "metadata": {
    "papermill": {
     "duration": 0.005247,
     "end_time": "2023-05-22T05:52:27.248003",
     "exception": false,
     "start_time": "2023-05-22T05:52:27.242756",
     "status": "completed"
    },
    "tags": []
   },
   "source": [
    "---\n",
    "**[Machine Learning Course Home Page](https://www.kaggle.com/learn/machine-learning)**\n",
    "\n"
   ]
  }
 ],
 "metadata": {
  "kernelspec": {
   "display_name": "Python 3",
   "language": "python",
   "name": "python3"
  },
  "language_info": {
   "codemirror_mode": {
    "name": "ipython",
    "version": 3
   },
   "file_extension": ".py",
   "mimetype": "text/x-python",
   "name": "python",
   "nbconvert_exporter": "python",
   "pygments_lexer": "ipython3",
   "version": "3.10.10"
  },
  "papermill": {
   "default_parameters": {},
   "duration": 17.634098,
   "end_time": "2023-05-22T05:52:28.579270",
   "environment_variables": {},
   "exception": null,
   "input_path": "__notebook__.ipynb",
   "output_path": "__notebook__.ipynb",
   "parameters": {},
   "start_time": "2023-05-22T05:52:10.945172",
   "version": "2.4.0"
  }
 },
 "nbformat": 4,
 "nbformat_minor": 5
}
