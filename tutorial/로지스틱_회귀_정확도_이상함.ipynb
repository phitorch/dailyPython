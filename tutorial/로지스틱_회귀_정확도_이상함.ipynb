{
  "nbformat": 4,
  "nbformat_minor": 0,
  "metadata": {
    "colab": {
      "provenance": [],
      "authorship_tag": "ABX9TyPgiRpThJvgB4O1lQU3foyj"
    },
    "kernelspec": {
      "name": "python3",
      "display_name": "Python 3"
    },
    "language_info": {
      "name": "python"
    }
  },
  "cells": [
    {
      "cell_type": "code",
      "execution_count": 3,
      "metadata": {
        "colab": {
          "base_uri": "https://localhost:8080/"
        },
        "id": "j0qPFr_r-bKk",
        "outputId": "2a3d1de0-f1fe-4f33-c51a-a56b1a094ee1"
      },
      "outputs": [
        {
          "output_type": "stream",
          "name": "stdout",
          "text": [
            "Accuracy:  0.0\n"
          ]
        }
      ],
      "source": [
        "import tensorflow as tf\n",
        "from sklearn import datasets\n",
        "from sklearn.model_selection import train_test_split\n",
        "from sklearn.preprocessing import StandardScaler\n",
        "\n",
        "# 데이터 로드\n",
        "cancer = datasets.load_breast_cancer()\n",
        "X = cancer.data\n",
        "y = cancer.target\n",
        "\n",
        "# 데이터 정규화\n",
        "scaler = StandardScaler()\n",
        "X = scaler.fit_transform(X)\n",
        "\n",
        "# 데이터를 훈련 세트와 테스트 세트로 분할\n",
        "X_train, X_test, y_train, y_test = train_test_split(X, y, test_size=0.2, random_state=42)\n",
        "\n",
        "# 훈련 세트와 테스트 세트를 텐서로 변환\n",
        "X_train = tf.constant(X_train, dtype=tf.float32)\n",
        "X_test = tf.constant(X_test, dtype=tf.float32)\n",
        "y_train = tf.constant(y_train, dtype=tf.float32)\n",
        "y_test = tf.constant(y_test, dtype=tf.float32)\n",
        "\n",
        "# 모델 파라미터 초기화\n",
        "num_features = X.shape[1]\n",
        "weights = tf.Variable(tf.random.normal([num_features, 1]))\n",
        "bias = tf.Variable(tf.zeros([1]))\n",
        "\n",
        "# 로지스틱 회귀 모델\n",
        "def model(X):\n",
        "    return 1 / (1 + tf.exp(-(tf.matmul(X, weights) + bias)))\n",
        "\n",
        "# 손실 함수\n",
        "def loss_fn(y_true, y_pred):\n",
        "    return -tf.reduce_mean(y_true * tf.math.log(y_pred) + (1 - y_true) * tf.math.log(1 - y_pred))\n",
        "\n",
        "# 옵티마이저\n",
        "optimizer = tf.optimizers.SGD(0.01)\n",
        "\n",
        "# 훈련 함수\n",
        "def train(X, y):\n",
        "    with tf.GradientTape() as tape:\n",
        "        y_pred = model(X)\n",
        "        loss = loss_fn(y, y_pred)\n",
        "    gradients = tape.gradient(loss, [weights, bias])\n",
        "    optimizer.apply_gradients(zip(gradients, [weights, bias]))\n",
        "\n",
        "# 훈련\n",
        "for i in range(1000):\n",
        "    train(X_train, y_train)\n",
        "\n",
        "# 예측\n",
        "y_pred = model(X_test)\n",
        "\n",
        "# 정확도 계산\n",
        "correct_preds = tf.equal(tf.round(y_pred), y_test)\n",
        "accuracy = tf.reduce_mean(tf.cast(correct_preds, tf.float32))\n",
        "\n",
        "print('Accuracy: ', accuracy.numpy())\n"
      ]
    }
  ]
}