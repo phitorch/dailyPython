{
  "nbformat": 4,
  "nbformat_minor": 0,
  "metadata": {
    "colab": {
      "provenance": []
    },
    "kernelspec": {
      "name": "python3",
      "display_name": "Python 3"
    },
    "language_info": {
      "name": "python"
    }
  },
  "cells": [
    {
      "cell_type": "code",
      "metadata": {
        "id": "DgpTS2rzjCS6"
      },
      "source": [
        "# import libraries \n",
        "import torch\n",
        "import torch.nn as nn\n",
        "from torch.autograd import Variable"
      ],
      "execution_count": null,
      "outputs": []
    },
    {
      "cell_type": "code",
      "metadata": {
        "id": "CXEXUNbYjKdi"
      },
      "source": [
        "# create data\n",
        "Xs = torch.Tensor([[0., 0.],\n",
        "               [0., 1.],\n",
        "               [1., 0.],\n",
        "               [1., 1.]])\n",
        "\n",
        "y = torch.Tensor([0., 1., 1., 0.]).reshape(Xs.shape[0], 1)"
      ],
      "execution_count": null,
      "outputs": []
    },
    {
      "cell_type": "code",
      "metadata": {
        "id": "Xj9aWn_7jMCv"
      },
      "source": [
        "class XOR(nn.Module):\n",
        "    def __init__(self):\n",
        "        super(XOR, self).__init__()\n",
        "        self.linear = nn.Linear(2, 2)\n",
        "        self.Sigmoid = nn.Sigmoid()\n",
        "        self.linear2 = nn.Linear(2, 1)\n",
        "\n",
        "    def forward(self, input):\n",
        "      x = self.linear(input)\n",
        "      sig = self.Sigmoid(x)\n",
        "      yh = self.linear2(sig)\n",
        "      return yh"
      ],
      "execution_count": null,
      "outputs": []
    },
    {
      "cell_type": "code",
      "metadata": {
        "id": "3f1Xs2TcjOCI"
      },
      "source": [
        "xor_network = XOR()"
      ],
      "execution_count": null,
      "outputs": []
    },
    {
      "cell_type": "code",
      "metadata": {
        "colab": {
          "base_uri": "https://localhost:8080/"
        },
        "id": "82Adr85ZjQ17",
        "outputId": "2de27494-f194-4feb-cc3e-69ee01b159a0"
      },
      "source": [
        "epochs = 1000\n",
        "mseloss = nn.MSELoss()\n",
        "optimizer = torch.optim.Adam(xor_network.parameters(), lr = 0.03)\n",
        "all_losses = []\n",
        "current_loss = 0\n",
        "plot_every = 50\n",
        "\n",
        "for epoch in range(epochs):\n",
        "\n",
        "  # input training example and return the prediction\n",
        "  yhat = xor_network.forward(Xs)\n",
        "\n",
        "  # calculate MSE loss\n",
        "  loss = mseloss(yhat, y)\n",
        "  \n",
        "  # backpropogate through the loss gradiants\n",
        "  loss.backward()\n",
        "\n",
        "  # update model weights\n",
        "  optimizer.step()\n",
        "\n",
        "  # remove current gradients for next iteration\n",
        "  optimizer.zero_grad()\n",
        "\n",
        "  # append to loss\n",
        "  current_loss += loss\n",
        "  if epoch % plot_every == 0:\n",
        "      all_losses.append(current_loss / plot_every)\n",
        "      current_loss = 0\n",
        "  \n",
        "  # print progress\n",
        "  if epoch % 500 == 0:\n",
        "    print(f'Epoch: {epoch} completed')"
      ],
      "execution_count": null,
      "outputs": [
        {
          "output_type": "stream",
          "text": [
            "Epoch: 0 completed\n",
            "Epoch: 500 completed\n"
          ],
          "name": "stdout"
        }
      ]
    },
    {
      "cell_type": "code",
      "metadata": {
        "colab": {
          "base_uri": "https://localhost:8080/",
          "height": 264
        },
        "id": "05MIuGmGjSre",
        "outputId": "ee508d38-8dfb-4515-a6c2-359f92e81709"
      },
      "source": [
        "import matplotlib.pyplot as plt\n",
        "plt.plot(all_losses)\n",
        "plt.ylabel('Loss')\n",
        "plt.show()"
      ],
      "execution_count": null,
      "outputs": [
        {
          "output_type": "display_data",
          "data": {
            "image/png": "[encoded data removed]",
            "text/plain": [
              "<Figure size 432x288 with 1 Axes>"
            ]
          },
          "metadata": {
            "tags": [],
            "needs_background": "light"
          }
        }
      ]
    },
    {
      "cell_type": "code",
      "metadata": {
        "colab": {
          "base_uri": "https://localhost:8080/"
        },
        "id": "qHRQVH_6jUWd",
        "outputId": "5bfec24d-0c62-4220-a931-be540154d084"
      },
      "source": [
        "# show weights and bias\n",
        "for name, param in xor_network.named_parameters():\n",
        "    if param.requires_grad:\n",
        "        print(name, param.data)"
      ],
      "execution_count": null,
      "outputs": [
        {
          "output_type": "stream",
          "text": [
            "linear.weight tensor([[-3.7707,  3.6791],\n",
            "        [-5.6279,  5.1548]])\n",
            "linear.bias tensor([ 1.4862, -3.2543])\n",
            "linear2.weight tensor([[-1.4605,  1.5144]])\n",
            "linear2.bias tensor([1.1348])\n"
          ],
          "name": "stdout"
        }
      ]
    },
    {
      "cell_type": "code",
      "metadata": {
        "colab": {
          "base_uri": "https://localhost:8080/"
        },
        "id": "RB_Y0q_VjWAP",
        "outputId": "578cbfbc-cb33-4cdf-d260-a32e7754155b"
      },
      "source": [
        "# test input\n",
        "input = torch.tensor([1., 1.])\n",
        "out = xor_network(input)\n",
        "print(out.round())"
      ],
      "execution_count": null,
      "outputs": [
        {
          "output_type": "stream",
          "text": [
            "tensor([0.], grad_fn=<RoundBackward>)\n"
          ],
          "name": "stdout"
        }
      ]
    }
  ]
}